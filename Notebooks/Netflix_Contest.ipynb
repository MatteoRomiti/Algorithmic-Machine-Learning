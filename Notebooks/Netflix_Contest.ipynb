{
 "cells": [
  {
   "cell_type": "code",
   "execution_count": 1,
   "metadata": {
    "collapsed": true
   },
   "outputs": [],
   "source": [
    "import os\n",
    "import sys\n",
    "import re\n",
    "import random\n",
    "from pyspark import SparkContext\n",
    "from pyspark.sql import SQLContext\n",
    "from pyspark.sql.types import *\n",
    "from pyspark.sql import Row\n",
    "from pyspark.sql.functions import *\n",
    "from mpl_toolkits.mplot3d import Axes3D\n",
    "from mpl_toolkits.mplot3d import proj3d\n",
    "\n",
    "\n",
    "import pyspark.mllib.recommendation as recommendation\n",
    "\n",
    "%matplotlib inline\n",
    "import matplotlib.pyplot as plt\n",
    "from matplotlib.patches import Ellipse\n",
    "import pandas as pd\n",
    "import numpy as np\n",
    "from time import time\n",
    "\n",
    "sqlContext = SQLContext(sc)\n",
    "base = \"/user/user26/netflix_dataset/\"\n",
    "\n",
    "training_folder = base + 'training_set/'"
   ]
  },
  {
   "cell_type": "markdown",
   "metadata": {},
   "source": [
    "TRAINING DATASET FILE DESCRIPTION    \n",
    "================================================================================    \n",
    "                                                                                                                                   \n",
    "The file \"training_set.tar\" is a tar of a directory containing 17770 files, one per movie.  The first line of each file contains the movie id followed by a colon.  Each subsequent line in the file corresponds to a rating from a customer and its date in the following format:\n",
    "\n",
    "CustomerID,Rating,Date                                                          \n",
    "\n",
    "- MovieIDs range from 1 to 17770 sequentially.    \n",
    "- CustomerIDs range from 1 to 2649429, with gaps. There are 480189 users.\n",
    "- Ratings are on a five star (integral) scale from 1 to 5.\n",
    "- Dates have the format YYYY-MM-DD."
   ]
  },
  {
   "cell_type": "code",
   "execution_count": 2,
   "metadata": {
    "collapsed": false
   },
   "outputs": [],
   "source": [
    "rawMovieRatings = sc.textFile(training_folder + 'mv_*')\n",
    "\n",
    "movieID = -1\n",
    "\n",
    "def xtractFields(s):\n",
    "    # Using white space or tab character as separators,\n",
    "    # split a line into list of strings \n",
    "    line = re.split(',',s)\n",
    "    global movieID\n",
    "    # if this line has at least 2 characters\n",
    "    if (len(line) == 1): \n",
    "        movieID = line[0][0:-1]\n",
    "        return (-1,-1,-1,-1)\n",
    "    \n",
    "    if (len(line) == 3):\n",
    "        #try:      \n",
    "            # try to parse the first and the second components to integer type\n",
    "        return (movieID, line[0], line[1], line[2])\n",
    "        #except ValueError:\n",
    "            # if parsing has any error, return a special tuple\n",
    "        #    return (-1,-1,-1,-2)\n",
    "    else:\n",
    "        # if this line has less than 2 characters, return a special tuple\n",
    "        return (-1,-1,-1,-3)\n",
    "\n",
    "movieRatingsRDD = rawMovieRatings.map( xtractFields ).filter(lambda x : x[0] != -1)"
   ]
  },
  {
   "cell_type": "markdown",
   "metadata": {},
   "source": [
    "Movie | UserID | Rating | Date"
   ]
  },
  {
   "cell_type": "code",
   "execution_count": 3,
   "metadata": {
    "collapsed": false
   },
   "outputs": [
    {
     "data": {
      "text/plain": [
       "[('215', '108846', '5', '2004-11-02'),\n",
       " ('357', '2049750', '4', '2004-04-05'),\n",
       " ('334', '2377061', '3', '2005-12-01'),\n",
       " ('1862', '1830717', '3', '2004-03-04'),\n",
       " ('706', '363769', '5', '2005-06-27'),\n",
       " ('1561', '532817', '2', '2005-03-15'),\n",
       " ('378', '52153', '3', '2005-10-24'),\n",
       " ('199', '1593840', '5', '2005-03-19'),\n",
       " ('1054', '2119233', '3', '2002-07-17'),\n",
       " ('571', '1334087', '5', '2005-10-03')]"
      ]
     },
     "execution_count": 3,
     "metadata": {},
     "output_type": "execute_result"
    }
   ],
   "source": [
    "movieRatingsRDD.takeSample(False, 10)\n"
   ]
  },
  {
   "cell_type": "code",
   "execution_count": 15,
   "metadata": {
    "collapsed": false
   },
   "outputs": [],
   "source": [
    "allData = movieRatingsRDD.map(lambda r: recommendation.Rating(r[1], r[0], r[2])).repartition(36).cache()"
   ]
  },
  {
   "cell_type": "code",
   "execution_count": 16,
   "metadata": {
    "collapsed": false
   },
   "outputs": [],
   "source": [
    "model = recommendation.ALS.train(allData, rank=50, blocks=36)"
   ]
  },
  {
   "cell_type": "code",
   "execution_count": 17,
   "metadata": {
    "collapsed": false
   },
   "outputs": [],
   "source": [
    "predictData = model.predictAll(allData.map(lambda x : (x.user, x.product)))"
   ]
  },
  {
   "cell_type": "code",
   "execution_count": 18,
   "metadata": {
    "collapsed": false
   },
   "outputs": [
    {
     "data": {
      "text/plain": [
       "[Rating(user=2535624, product=1962, rating=4.8207341047002465),\n",
       " Rating(user=2535624, product=313, rating=3.895793790054712),\n",
       " Rating(user=2535624, product=1145, rating=4.706000361166939),\n",
       " Rating(user=2535624, product=353, rating=3.925963342614346),\n",
       " Rating(user=2535624, product=760, rating=4.977842819197679),\n",
       " Rating(user=2535624, product=78, rating=3.9957500272736004),\n",
       " Rating(user=2535624, product=483, rating=3.9187013687188617),\n",
       " Rating(user=2535624, product=1798, rating=3.845024550094224),\n",
       " Rating(user=1063980, product=1307, rating=2.9265856977282994),\n",
       " Rating(user=1063980, product=700, rating=4.925513359182486)]"
      ]
     },
     "execution_count": 18,
     "metadata": {},
     "output_type": "execute_result"
    }
   ],
   "source": [
    "predictData.take(10)"
   ]
  },
  {
   "cell_type": "code",
   "execution_count": 21,
   "metadata": {
    "collapsed": false
   },
   "outputs": [],
   "source": [
    "def RMSE(allData, predictData, model):\n",
    "    predictionRatings = predictData.map(lambda x:((x.user, x.product), x.rating))\\\n",
    "                                   .join(allData.map(lambda x:((x.user, x.product), x.rating)))\n",
    "    return predictionRatings"
   ]
  },
  {
   "cell_type": "code",
   "execution_count": 22,
   "metadata": {
    "collapsed": false
   },
   "outputs": [
    {
     "data": {
      "text/plain": [
       "[((751367, 83), (4.510286220894525, 5.0)),\n",
       " ((910339, 1295), (3.9635258508666174, 5.0)),\n",
       " ((1800047, 571), (4.03469739260353, 4.0)),\n",
       " ((320901, 1865), (2.202844081534235, 2.0)),\n",
       " ((635321, 189), (3.8381724343893664, 4.0)),\n",
       " ((1446632, 1798), (4.743015706815126, 5.0)),\n",
       " ((1489880, 1542), (4.275209589175548, 5.0)),\n",
       " ((178738, 1832), (3.9407140423373095, 4.0)),\n",
       " ((309400, 990), (3.3456385352191873, 4.0)),\n",
       " ((327808, 1470), (2.714020580562192, 3.0))]"
      ]
     },
     "execution_count": 22,
     "metadata": {},
     "output_type": "execute_result"
    }
   ],
   "source": [
    "RMSE(allData, predictData, model).take(10)"
   ]
  }
 ],
 "metadata": {
  "kernelspec": {
   "display_name": "Python 3",
   "language": "python",
   "name": "python3"
  },
  "language_info": {
   "codemirror_mode": {
    "name": "ipython",
    "version": 3
   },
   "file_extension": ".py",
   "mimetype": "text/x-python",
   "name": "python",
   "nbconvert_exporter": "python",
   "pygments_lexer": "ipython3",
   "version": "3.5.2"
  }
 },
 "nbformat": 4,
 "nbformat_minor": 2
}
